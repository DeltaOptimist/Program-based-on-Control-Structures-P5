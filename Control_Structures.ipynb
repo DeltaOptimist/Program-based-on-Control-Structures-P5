{
  "nbformat": 4,
  "nbformat_minor": 0,
  "metadata": {
    "colab": {
      "provenance": []
    },
    "kernelspec": {
      "name": "python3",
      "display_name": "Python 3"
    },
    "language_info": {
      "name": "python"
    }
  },
  "cells": [
    {
      "cell_type": "markdown",
      "source": [
        "Program based on Control Structures\n",
        "\n",
        "-> Condition checking\n",
        "\n",
        "-> if\n",
        "\n",
        "-> for\n",
        "\n",
        "-> while\n",
        "\n",
        "-> continue and break"
      ],
      "metadata": {
        "id": "6gMVwooojACu"
      }
    },
    {
      "cell_type": "markdown",
      "source": [
        "\n",
        "\n",
        "##Condition Checking\n",
        "\n"
      ],
      "metadata": {
        "id": "bOahvM3tjV2O"
      }
    },
    {
      "cell_type": "code",
      "execution_count": 2,
      "metadata": {
        "colab": {
          "base_uri": "https://localhost:8080/"
        },
        "id": "F7CMNQ89i4ra",
        "outputId": "175c2cf8-146d-4244-e21b-fb0ecf172adf"
      },
      "outputs": [
        {
          "output_type": "execute_result",
          "data": {
            "text/plain": [
              "False"
            ]
          },
          "metadata": {},
          "execution_count": 2
        }
      ],
      "source": [
        "# simple and combination of tests\n",
        "\n",
        "num = 5\n",
        "num > 25"
      ]
    },
    {
      "cell_type": "code",
      "source": [
        "num > 3 and num <= 5"
      ],
      "metadata": {
        "colab": {
          "base_uri": "https://localhost:8080/"
        },
        "id": "kV4oQTRCjnqD",
        "outputId": "7181f15f-e778-4ab4-da3d-56344e5e1702"
      },
      "execution_count": 3,
      "outputs": [
        {
          "output_type": "execute_result",
          "data": {
            "text/plain": [
              "True"
            ]
          },
          "metadata": {},
          "execution_count": 3
        }
      ]
    },
    {
      "cell_type": "code",
      "source": [
        "3 < num <= 5"
      ],
      "metadata": {
        "colab": {
          "base_uri": "https://localhost:8080/"
        },
        "id": "nETt0VayjsH_",
        "outputId": "f386b8bd-8bd4-4b07-c880-e78dd2d3e5fa"
      },
      "execution_count": 4,
      "outputs": [
        {
          "output_type": "execute_result",
          "data": {
            "text/plain": [
              "True"
            ]
          },
          "metadata": {},
          "execution_count": 4
        }
      ]
    },
    {
      "cell_type": "code",
      "source": [
        "num % 3 == 0 or num % 5 == 0"
      ],
      "metadata": {
        "colab": {
          "base_uri": "https://localhost:8080/"
        },
        "id": "OEpLUrx2juVe",
        "outputId": "7281218b-845c-4815-fae7-47b63eb07717"
      },
      "execution_count": 5,
      "outputs": [
        {
          "output_type": "execute_result",
          "data": {
            "text/plain": [
              "True"
            ]
          },
          "metadata": {},
          "execution_count": 5
        }
      ]
    },
    {
      "cell_type": "code",
      "source": [
        "fav_fiction = 'Harry Potter'\n",
        "fav_detective = 'Sherlock Holmes'"
      ],
      "metadata": {
        "id": "XTkqkyhTjxXo"
      },
      "execution_count": 6,
      "outputs": []
    },
    {
      "cell_type": "code",
      "source": [
        "fav_fiction == fav_detective"
      ],
      "metadata": {
        "colab": {
          "base_uri": "https://localhost:8080/"
        },
        "id": "KjUM6lTAj4tJ",
        "outputId": "cb76c898-1dca-4273-b47c-9fd961099cc8"
      },
      "execution_count": 7,
      "outputs": [
        {
          "output_type": "execute_result",
          "data": {
            "text/plain": [
              "False"
            ]
          },
          "metadata": {},
          "execution_count": 7
        }
      ]
    },
    {
      "cell_type": "code",
      "source": [
        "fav_fiction == \"Harry Potter\""
      ],
      "metadata": {
        "colab": {
          "base_uri": "https://localhost:8080/"
        },
        "id": "nh2joz2gj5Yx",
        "outputId": "fa699b1c-5069-418b-d42e-1d6cfb7623de"
      },
      "execution_count": 8,
      "outputs": [
        {
          "output_type": "execute_result",
          "data": {
            "text/plain": [
              "True"
            ]
          },
          "metadata": {},
          "execution_count": 8
        }
      ]
    },
    {
      "cell_type": "markdown",
      "source": [
        "Testing variable or value by themselves"
      ],
      "metadata": {
        "id": "NSvckoqmkjCY"
      }
    },
    {
      "cell_type": "code",
      "source": [
        "bool(num)"
      ],
      "metadata": {
        "colab": {
          "base_uri": "https://localhost:8080/"
        },
        "id": "sAwVK9J4j77O",
        "outputId": "2943c5a8-a814-42d9-90a5-b216b8405b91"
      },
      "execution_count": 9,
      "outputs": [
        {
          "output_type": "execute_result",
          "data": {
            "text/plain": [
              "True"
            ]
          },
          "metadata": {},
          "execution_count": 9
        }
      ]
    },
    {
      "cell_type": "code",
      "source": [
        "bool(fav_detective)"
      ],
      "metadata": {
        "colab": {
          "base_uri": "https://localhost:8080/"
        },
        "id": "mhbe1_RIklB6",
        "outputId": "8d4156bf-a6e9-447d-dd5c-62db689a33cf"
      },
      "execution_count": 10,
      "outputs": [
        {
          "output_type": "execute_result",
          "data": {
            "text/plain": [
              "True"
            ]
          },
          "metadata": {},
          "execution_count": 10
        }
      ]
    },
    {
      "cell_type": "code",
      "source": [
        "bool(3)"
      ],
      "metadata": {
        "colab": {
          "base_uri": "https://localhost:8080/"
        },
        "id": "lCfMk-Y4kmw5",
        "outputId": "02e4b4c7-fcfc-46d0-cd42-5e1bbebb2466"
      },
      "execution_count": 11,
      "outputs": [
        {
          "output_type": "execute_result",
          "data": {
            "text/plain": [
              "True"
            ]
          },
          "metadata": {},
          "execution_count": 11
        }
      ]
    },
    {
      "cell_type": "code",
      "source": [
        "bool(0)"
      ],
      "metadata": {
        "colab": {
          "base_uri": "https://localhost:8080/"
        },
        "id": "zV7GbScTkopu",
        "outputId": "511e421e-be97-4bdc-f9de-1e7b6faf8522"
      },
      "execution_count": 12,
      "outputs": [
        {
          "output_type": "execute_result",
          "data": {
            "text/plain": [
              "False"
            ]
          },
          "metadata": {},
          "execution_count": 12
        }
      ]
    },
    {
      "cell_type": "code",
      "source": [
        "bool(\"\")"
      ],
      "metadata": {
        "colab": {
          "base_uri": "https://localhost:8080/"
        },
        "id": "61S82Mo1kqEZ",
        "outputId": "2856d235-1130-4f2d-9796-4d92563283fd"
      },
      "execution_count": 13,
      "outputs": [
        {
          "output_type": "execute_result",
          "data": {
            "text/plain": [
              "False"
            ]
          },
          "metadata": {},
          "execution_count": 13
        }
      ]
    },
    {
      "cell_type": "code",
      "source": [
        "bool(None)"
      ],
      "metadata": {
        "colab": {
          "base_uri": "https://localhost:8080/"
        },
        "id": "LGpfHr9jkrpo",
        "outputId": "16fa61d6-6855-4313-dc51-86c77b098d5b"
      },
      "execution_count": 14,
      "outputs": [
        {
          "output_type": "execute_result",
          "data": {
            "text/plain": [
              "False"
            ]
          },
          "metadata": {},
          "execution_count": 14
        }
      ]
    },
    {
      "cell_type": "code",
      "source": [
        "if -1:\n",
        "  print(\"-1 evaluates to True in condition checking\")"
      ],
      "metadata": {
        "colab": {
          "base_uri": "https://localhost:8080/"
        },
        "id": "7TNeMdh4ktB-",
        "outputId": "614a850c-11e4-4453-9f05-912ecf85b0e8"
      },
      "execution_count": 15,
      "outputs": [
        {
          "output_type": "stream",
          "name": "stdout",
          "text": [
            "-1 evaluates to True in condition checking\n"
          ]
        }
      ]
    },
    {
      "cell_type": "markdown",
      "source": [
        "The use of in operator in condition checking"
      ],
      "metadata": {
        "id": "h8UcEZ3Ik4Cs"
      }
    },
    {
      "cell_type": "code",
      "source": [
        "def num_chk(n):\n",
        "  if n == 10 or n == 21 or n == 33:\n",
        "    print(\"Number passes condition\")\n",
        "  else:\n",
        "    print(\"Number fails condition\")"
      ],
      "metadata": {
        "id": "79I8ywvykzNO"
      },
      "execution_count": 17,
      "outputs": []
    },
    {
      "cell_type": "code",
      "source": [
        "num_chk(10)"
      ],
      "metadata": {
        "colab": {
          "base_uri": "https://localhost:8080/"
        },
        "id": "Q88SUTdzlCFe",
        "outputId": "183ae168-4bb9-4191-82df-8c4c01513523"
      },
      "execution_count": 18,
      "outputs": [
        {
          "output_type": "stream",
          "name": "stdout",
          "text": [
            "Number passes condition\n"
          ]
        }
      ]
    },
    {
      "cell_type": "code",
      "source": [
        "num_chk(12)"
      ],
      "metadata": {
        "colab": {
          "base_uri": "https://localhost:8080/"
        },
        "id": "Cv1Ir0jylIHv",
        "outputId": "dc692e27-f8b3-4aa0-ee2e-a025ad4b211b"
      },
      "execution_count": 19,
      "outputs": [
        {
          "output_type": "stream",
          "name": "stdout",
          "text": [
            "Number fails condition\n"
          ]
        }
      ]
    },
    {
      "cell_type": "code",
      "source": [
        "# 2nd way\n",
        "def num_chk2(n):\n",
        "  if n in (10, 21, 33):\n",
        "    print(\"Number passes condition\")\n",
        "  else:\n",
        "    print(\"Number fails condition\")"
      ],
      "metadata": {
        "id": "hVGG9mmSlJIs"
      },
      "execution_count": 22,
      "outputs": []
    },
    {
      "cell_type": "code",
      "source": [
        "num_chk2(12)"
      ],
      "metadata": {
        "colab": {
          "base_uri": "https://localhost:8080/"
        },
        "id": "VA2_QHYAlXr-",
        "outputId": "a6cd0c53-89a5-4e8b-9fde-e4596c90cd93"
      },
      "execution_count": 23,
      "outputs": [
        {
          "output_type": "stream",
          "name": "stdout",
          "text": [
            "Number fails condition\n"
          ]
        }
      ]
    },
    {
      "cell_type": "code",
      "source": [
        "num_chk2(10)"
      ],
      "metadata": {
        "colab": {
          "base_uri": "https://localhost:8080/"
        },
        "id": "cw-cwQ_Wlebg",
        "outputId": "37254299-543f-488e-f02b-f471b9863418"
      },
      "execution_count": 24,
      "outputs": [
        {
          "output_type": "stream",
          "name": "stdout",
          "text": [
            "Number passes condition\n"
          ]
        }
      ]
    },
    {
      "cell_type": "markdown",
      "source": [
        "## if"
      ],
      "metadata": {
        "id": "L_BCGDg4lp7b"
      }
    },
    {
      "cell_type": "code",
      "source": [
        "num = 45\n",
        "\n",
        "# only if\n",
        "\n",
        "if num > 25:\n",
        "    print(\"Hurray! {} is greater than 25\".format(num))"
      ],
      "metadata": {
        "colab": {
          "base_uri": "https://localhost:8080/"
        },
        "id": "XMUJZVk7ljoU",
        "outputId": "e3df5160-bd1b-4263-84cd-9948d182b87a"
      },
      "execution_count": 25,
      "outputs": [
        {
          "output_type": "stream",
          "name": "stdout",
          "text": [
            "Hurray! 45 is greater than 25\n"
          ]
        }
      ]
    },
    {
      "cell_type": "code",
      "source": [
        "# if-else\n",
        "\n",
        "if num % 2 == 0:\n",
        "    print(\"{} is an even number\".format(num))\n",
        "else:\n",
        "    print(\"{} is an odd number\".format(num))"
      ],
      "metadata": {
        "colab": {
          "base_uri": "https://localhost:8080/"
        },
        "id": "Mw9iaOSxluxt",
        "outputId": "198c9d24-bc1e-4985-8a57-908c6428b02e"
      },
      "execution_count": 26,
      "outputs": [
        {
          "output_type": "stream",
          "name": "stdout",
          "text": [
            "45 is an odd number\n"
          ]
        }
      ]
    },
    {
      "cell_type": "code",
      "source": [
        "# if-elif-else\n",
        "# any number of elif can be used\n",
        "\n",
        "if num < 0:\n",
        "    print(\"{} is a negative number\".format(num))\n",
        "elif num > 0:\n",
        "    print(\"{} is a positive number\".format(num))\n",
        "else:\n",
        "    print(\"{} is neither postive nor a negative number\".format(num))"
      ],
      "metadata": {
        "colab": {
          "base_uri": "https://localhost:8080/"
        },
        "id": "82tV4mRWl1DF",
        "outputId": "665a3a23-fb4e-492c-9a01-7d4bbd04c790"
      },
      "execution_count": 27,
      "outputs": [
        {
          "output_type": "stream",
          "name": "stdout",
          "text": [
            "45 is a positive number\n"
          ]
        }
      ]
    },
    {
      "cell_type": "code",
      "source": [
        "# another way\n",
        "\n",
        "num = 42\n",
        "\n",
        "num_type = 'even' if num % 2 == 0 else 'odd'\n",
        "print(\"{} is an {} number\".format(num, num_type))"
      ],
      "metadata": {
        "colab": {
          "base_uri": "https://localhost:8080/"
        },
        "id": "z2toeFYjl5cJ",
        "outputId": "5470b85b-fa14-4de0-dd7f-eea6b790e276"
      },
      "execution_count": 28,
      "outputs": [
        {
          "output_type": "stream",
          "name": "stdout",
          "text": [
            "42 is an even number\n"
          ]
        }
      ]
    },
    {
      "cell_type": "markdown",
      "source": [
        "## for"
      ],
      "metadata": {
        "id": "o8Ff7PlImMkW"
      }
    },
    {
      "cell_type": "code",
      "source": [
        "number = 9\n",
        "for i in range(1, 5):\n",
        "    mul_table = number * i\n",
        "    print(\"{} * {} = {}\".format(number, i, mul_table))"
      ],
      "metadata": {
        "colab": {
          "base_uri": "https://localhost:8080/"
        },
        "id": "JfY-Z3JymGY6",
        "outputId": "c6e4fb8f-3f4c-4ac7-b47c-0e1f8bdf5df4"
      },
      "execution_count": 29,
      "outputs": [
        {
          "output_type": "stream",
          "name": "stdout",
          "text": [
            "9 * 1 = 9\n",
            "9 * 2 = 18\n",
            "9 * 3 = 27\n",
            "9 * 4 = 36\n"
          ]
        }
      ]
    },
    {
      "cell_type": "markdown",
      "source": [
        "##while"
      ],
      "metadata": {
        "id": "ieS91hbRmXWp"
      }
    },
    {
      "cell_type": "code",
      "source": [
        "# continuously ask user input till it is a positive integer\n",
        "\n",
        "usr_string = 'not a number'\n",
        "while not usr_string.isnumeric():\n",
        "    usr_string = input(\"Enter a positive integer: \")"
      ],
      "metadata": {
        "colab": {
          "base_uri": "https://localhost:8080/"
        },
        "id": "r4b3uBX3mRTO",
        "outputId": "e6f9565a-c91b-4dca-ed02-677edb297d5b"
      },
      "execution_count": 34,
      "outputs": [
        {
          "name": "stdout",
          "output_type": "stream",
          "text": [
            "Enter a positive integer: wer\n",
            "Enter a positive integer: -45\n",
            "Enter a positive integer: 233\n"
          ]
        }
      ]
    },
    {
      "cell_type": "markdown",
      "source": [
        "##continue and break"
      ],
      "metadata": {
        "id": "XnLaOmTCm9JA"
      }
    },
    {
      "cell_type": "markdown",
      "source": [
        "The continue and break keywords are used to change the normal flow of loops on certain conditions\n",
        "\n",
        "continue - skip rest of statements in the loop and start next iteration"
      ],
      "metadata": {
        "id": "CIEvmAhtnC4p"
      }
    },
    {
      "cell_type": "code",
      "source": [
        "prev_num = 0\n",
        "curr_num = 0\n",
        "print(\"The first ten numbers in fibonacci sequence: \", end='')\n",
        "\n",
        "\n",
        "for num in range(10):\n",
        "    print(curr_num, end=' ')\n",
        "\n",
        "    if num == 0:\n",
        "        curr_num = 1\n",
        "        continue\n",
        "\n",
        "    temp = curr_num\n",
        "    curr_num = curr_num + prev_num\n",
        "    prev_num = temp\n",
        "\n",
        "print(\"\")"
      ],
      "metadata": {
        "colab": {
          "base_uri": "https://localhost:8080/"
        },
        "id": "rEzw37yimc72",
        "outputId": "a0d7159b-9102-4a57-ab06-90c2cb14f317"
      },
      "execution_count": 36,
      "outputs": [
        {
          "output_type": "stream",
          "name": "stdout",
          "text": [
            "The first ten numbers in fibonacci sequence: 0 1 1 2 3 5 8 13 21 34 \n"
          ]
        }
      ]
    },
    {
      "cell_type": "markdown",
      "source": [
        "break - skip rest of statements in the loop (if any) and exit loop"
      ],
      "metadata": {
        "id": "wYYVF1W8nceF"
      }
    },
    {
      "cell_type": "code",
      "source": [
        "import random\n",
        "\n",
        "while True:\n",
        "    # as with range() function, 500 is not inclusive\n",
        "    random_int = random.randrange(500)\n",
        "    if random_int % 4 == 0 and random_int % 6 == 0:\n",
        "        break\n",
        "print(\"Random number divisible by 4 and 6: {}\".format(random_int))"
      ],
      "metadata": {
        "colab": {
          "base_uri": "https://localhost:8080/"
        },
        "id": "RAx3fRPmnHit",
        "outputId": "c76e3891-f4a1-4386-99d4-7b4e7e0610e0"
      },
      "execution_count": 39,
      "outputs": [
        {
          "output_type": "stream",
          "name": "stdout",
          "text": [
            "Random number divisible by 4 and 6: 324\n"
          ]
        }
      ]
    },
    {
      "cell_type": "code",
      "source": [
        "while True:\n",
        "  usr_string = input(\"Enter a positive integer: \")\n",
        "  if usr_string.isnumeric():\n",
        "    break"
      ],
      "metadata": {
        "colab": {
          "base_uri": "https://localhost:8080/"
        },
        "id": "EdOum-F7ngMJ",
        "outputId": "7a2806c2-a6d6-4352-8373-222fcd5058d4"
      },
      "execution_count": 40,
      "outputs": [
        {
          "name": "stdout",
          "output_type": "stream",
          "text": [
            "Enter a positive integer: ee\n",
            "Enter a positive integer: 1trrr\n",
            "Enter a positive integer: -56\n",
            "Enter a positive integer: -wer\n",
            "Enter a positive integer: 12\n"
          ]
        }
      ]
    },
    {
      "cell_type": "code",
      "source": [],
      "metadata": {
        "id": "-v27VQD9ntpj"
      },
      "execution_count": null,
      "outputs": []
    }
  ]
}